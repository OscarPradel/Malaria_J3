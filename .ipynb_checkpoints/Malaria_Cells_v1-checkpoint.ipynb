{
 "cells": [
  {
   "cell_type": "markdown",
   "metadata": {},
   "source": [
    "Malaria Detection\n",
    "\n",
    "Denne journal tager udgangspunkt i NIHs officielle malaria dataset: https://ceb.nlm.nih.gov/repositories/malaria-datasets/. Datasettet indeholder 27,558 billeder af hhv. smittede og raske celler.\n",
    "Dette dataset er blevet uploaded til Kaggle, hvorfra vi vil benytte dette til at træne en algorithme der kan skelne mellem raske celler og celler der er blevet smittet med malaria. \n"
   ]
  },
  {
   "cell_type": "code",
   "execution_count": null,
   "metadata": {},
   "outputs": [],
   "source": [
    "# Konstante variabler:\n",
    "Base_Path = \"malaria\"\n",
    "Original_Input_dataset = \"malaria/cell_images\"\n",
    "\n",
    "Training_Split = 0.8 # i %. Vi tager 80% af dataen til træning og 20% til testing.\n",
    "Validation_Split = 0.1 # af de 80% til træning, tager vi 10% til validation.\n"
   ]
  },
  {
   "cell_type": "code",
   "execution_count": null,
   "metadata": {},
   "outputs": [],
   "source": [
    "# Data præprocessering:\n"
   ]
  }
 ],
 "metadata": {
  "kernelspec": {
   "display_name": "Python 3",
   "language": "python",
   "name": "python3"
  },
  "language_info": {
   "codemirror_mode": {
    "name": "ipython",
    "version": 3
   },
   "file_extension": ".py",
   "mimetype": "text/x-python",
   "name": "python",
   "nbconvert_exporter": "python",
   "pygments_lexer": "ipython3",
   "version": "3.7.1"
  }
 },
 "nbformat": 4,
 "nbformat_minor": 2
}
